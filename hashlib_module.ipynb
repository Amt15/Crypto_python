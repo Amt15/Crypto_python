{
  "nbformat": 4,
  "nbformat_minor": 0,
  "metadata": {
    "colab": {
      "name": "hashlib_module.ipynb",
      "provenance": [],
      "collapsed_sections": [],
      "authorship_tag": "ABX9TyNlkl/EQWguovin/7YT1h4+",
      "include_colab_link": true
    },
    "kernelspec": {
      "name": "python3",
      "display_name": "Python 3"
    },
    "language_info": {
      "name": "python"
    }
  },
  "cells": [
    {
      "cell_type": "markdown",
      "metadata": {
        "id": "view-in-github",
        "colab_type": "text"
      },
      "source": [
        "<a href=\"https://colab.research.google.com/github/Amt15/Crypto_python/blob/main/hashlib_module.ipynb\" target=\"_parent\"><img src=\"https://colab.research.google.com/assets/colab-badge.svg\" alt=\"Open In Colab\"/></a>"
      ]
    },
    {
      "cell_type": "code",
      "execution_count": 2,
      "metadata": {
        "id": "cA-_nmCJhLH-"
      },
      "outputs": [],
      "source": [
        "import hashlib as hash"
      ]
    },
    {
      "cell_type": "code",
      "source": [
        "#help(hash.md5())"
      ],
      "metadata": {
        "id": "4S_hMKb1hdw7"
      },
      "execution_count": 5,
      "outputs": []
    },
    {
      "cell_type": "code",
      "source": [
        "md5 = hash.md5()\n",
        "print(type(md5))\n",
        "print(md5)"
      ],
      "metadata": {
        "colab": {
          "base_uri": "https://localhost:8080/"
        },
        "id": "fI76_Q1uhyoV",
        "outputId": "f7c4b634-3365-4a36-9154-782f5870aef0"
      },
      "execution_count": 7,
      "outputs": [
        {
          "output_type": "stream",
          "name": "stdout",
          "text": [
            "<class '_hashlib.HASH'>\n",
            "<md5 HASH object @ 0x7f1ad3136a20>\n"
          ]
        }
      ]
    },
    {
      "cell_type": "code",
      "source": [
        "print(md5.digest())\n",
        "print(md5.hexdigest())\n",
        "print(md5.block_size)\n",
        "print(md5.digest_size)\n",
        "print(md5.name)"
      ],
      "metadata": {
        "colab": {
          "base_uri": "https://localhost:8080/"
        },
        "id": "vWx2sPpXiNW-",
        "outputId": "734e66fa-1693-4ba7-f7d7-b616827462f1"
      },
      "execution_count": 14,
      "outputs": [
        {
          "output_type": "stream",
          "name": "stdout",
          "text": [
            "b'\\xd4\\x1d\\x8c\\xd9\\x8f\\x00\\xb2\\x04\\xe9\\x80\\t\\x98\\xec\\xf8B~'\n",
            "d41d8cd98f00b204e9800998ecf8427e\n",
            "64\n",
            "16\n",
            "md5\n"
          ]
        }
      ]
    },
    {
      "cell_type": "code",
      "source": [
        "print(hash.algorithms_available)"
      ],
      "metadata": {
        "colab": {
          "base_uri": "https://localhost:8080/"
        },
        "id": "wCSCbr5ciaWo",
        "outputId": "a6cc0190-0883-48b0-a803-9f2a282e2bbc"
      },
      "execution_count": 15,
      "outputs": [
        {
          "output_type": "stream",
          "name": "stdout",
          "text": [
            "{'sha224', 'sha512', 'shake_128', 'sha3_224', 'sha3_384', 'shake_256', 'sha256', 'md5', 'sha384', 'blake2b', 'sha1', 'sha3_256', 'sha3_512', 'blake2s'}\n"
          ]
        }
      ]
    },
    {
      "cell_type": "code",
      "source": [
        "print(hash.algorithms_guaranteed)"
      ],
      "metadata": {
        "colab": {
          "base_uri": "https://localhost:8080/"
        },
        "id": "5xutO5rvifcn",
        "outputId": "ccfbc80d-2664-40f0-96d2-9496649570b7"
      },
      "execution_count": 16,
      "outputs": [
        {
          "output_type": "stream",
          "name": "stdout",
          "text": [
            "{'sha224', 'sha512', 'shake_128', 'sha3_224', 'sha3_384', 'shake_256', 'sha256', 'md5', 'sha384', 'blake2b', 'sha1', 'sha3_256', 'sha3_512', 'blake2s'}\n"
          ]
        }
      ]
    },
    {
      "cell_type": "code",
      "source": [
        "hashed_str = hash.sha256(b'Hello World !!!')\n",
        "print(hashed_str.digest())\n",
        "hex_digest = hashed_str.hexdigest()\n",
        "print(hex_digest)"
      ],
      "metadata": {
        "colab": {
          "base_uri": "https://localhost:8080/"
        },
        "id": "q1CLg2RLijd8",
        "outputId": "8a8fa88e-598f-40dd-8a27-d43b56eaca77"
      },
      "execution_count": 21,
      "outputs": [
        {
          "output_type": "stream",
          "name": "stdout",
          "text": [
            "b\"\\xf4\\xcba\\xe2\\x83\\xbad'8\\xc0ev|\\t\\r\\xa4\\xc1\\xa3c\\xf5\\xd4\\xcf\\xb9\\x0c\\xac\\xc5\\x16~\\xcf\\x13\\xc7`\"\n",
            "f4cb61e283ba642738c065767c090da4c1a363f5d4cfb90cacc5167ecf13c760\n"
          ]
        }
      ]
    },
    {
      "cell_type": "code",
      "source": [
        "print(hashed_str.digest_size)\n",
        "print(hashed_str.block_size)\n",
        "print(hashed_str.name)\n"
      ],
      "metadata": {
        "colab": {
          "base_uri": "https://localhost:8080/"
        },
        "id": "1Rws1zDvimz7",
        "outputId": "d601b4da-a3ed-42e5-c61f-e440af012e98"
      },
      "execution_count": 22,
      "outputs": [
        {
          "output_type": "stream",
          "name": "stdout",
          "text": [
            "32\n",
            "64\n",
            "sha256\n",
            "\n"
          ]
        }
      ]
    },
    {
      "cell_type": "markdown",
      "source": [
        "# AES Algorithm\n",
        "\n",
        "## Some Key Terms :\n",
        "\n",
        "- AES Modes(ECB(Electronic Code Block) ,CBC(Chipher Block Chaining)) etc\n",
        "- Padding\n",
        "- Key\n",
        "- Block Size --> fixed size of length of a data at a single time (16 Bytes)\n",
        "- Hashing"
      ],
      "metadata": {
        "id": "Ivbl4h9M7iNs"
      }
    },
    {
      "cell_type": "markdown",
      "source": [
        "AES --> A block cipher that operates on fixed block size of 16 bytes\n",
        "\n",
        "The key taken is also a fixed length of 16,24 or 32 bytes.\n",
        "\n",
        "In CBC the block has initialization vector.\n",
        "\n",
        "initialization vector is random sequence of charactors that is added to the first block of the message to produce more unpredictable form of cipertext but\n",
        "now the things get interesting\n",
        "\n",
        "the ciphertext from first block is xor with the plain text version of the second block and then the same key is used to encrypt the second block and that produce and even better unpredictable ciphertext  that ciphertext is XOR with \n",
        "on the third blocks plaintext and then encrypted with the same key to produce an even further unpredictable ciphertext.\n",
        "\n",
        "so thus even if there are multiple occurrences of the same plain text within the same blocks the value will be completely different its's very unlikely that they will ever match so that's how CBC is better by randomizing the the data on the start of each blocks.\n",
        "\n",
        "so maybe the current block is files so if the number of working block is the fifth block for example then the plain text of fifth block ix XOR with the ciphertext version of the fourth block and then the fifth block is encrypted with the key does randomizing the data and those linking all of the chains in a way that the enen the password(key) are similar the ciphertext versions will never be the same so that's how CBC works."
      ],
      "metadata": {
        "id": "4QtH8Zac_rKD"
      }
    },
    {
      "cell_type": "code",
      "source": [
        "# padding \n",
        "\n",
        "msg = \"I love python\"\n",
        "len(msg)"
      ],
      "metadata": {
        "colab": {
          "base_uri": "https://localhost:8080/"
        },
        "id": "2TPAeOtblhko",
        "outputId": "27d87f8b-01dd-4419-cf7e-617406678ed3"
      },
      "execution_count": 30,
      "outputs": [
        {
          "output_type": "execute_result",
          "data": {
            "text/plain": [
              "13"
            ]
          },
          "metadata": {},
          "execution_count": 30
        }
      ]
    },
    {
      "cell_type": "markdown",
      "source": [
        "# Padding\n",
        "\n",
        "- Padding is used when the number of characters in a message is not directly    reversible by 16. AES needs each block to be 16 and it can only work if each block contains 16 characters so what if the the number of characters in a message is 12 then,\n",
        "\n",
        "- what padding does is it fills out the rest of the remaining places with some character i.e in our case parenthesis({) like below.\n"
      ],
      "metadata": {
        "id": "Da4r0NKWKaDd"
      }
    },
    {
      "cell_type": "code",
      "source": [
        "# Automatically does \n",
        "\n",
        "msg = \"I love python{{{\"\n",
        "len(msg)"
      ],
      "metadata": {
        "colab": {
          "base_uri": "https://localhost:8080/"
        },
        "id": "V0VMkrxS6gk1",
        "outputId": "4f02b998-8cab-4ccf-bd11-afcd2a6e441c"
      },
      "execution_count": 32,
      "outputs": [
        {
          "output_type": "execute_result",
          "data": {
            "text/plain": [
              "16"
            ]
          },
          "metadata": {},
          "execution_count": 32
        }
      ]
    },
    {
      "cell_type": "markdown",
      "source": [
        "it's not possible for a person or a programmer to manually add every time this parenthesis by calculating what is the number of characters in a text or a message so we have to automate that process and the process of automating is basically.\n",
        "\n",
        "blocksize - length of message % blocksize times padding elements"
      ],
      "metadata": {
        "id": "kekfR0KmNPna"
      }
    },
    {
      "cell_type": "code",
      "source": [
        "msg = \"I love python\"\n",
        "result = msg + (16-len(msg) % 16) * \"{\"\n",
        "print(result)"
      ],
      "metadata": {
        "colab": {
          "base_uri": "https://localhost:8080/"
        },
        "id": "2tYwxYk66oSx",
        "outputId": "6ad19d80-de1b-4663-9c0e-f761c60d99d7"
      },
      "execution_count": 33,
      "outputs": [
        {
          "output_type": "stream",
          "name": "stdout",
          "text": [
            "I love python{{{\n"
          ]
        }
      ]
    },
    {
      "cell_type": "code",
      "source": [
        "len(result)"
      ],
      "metadata": {
        "colab": {
          "base_uri": "https://localhost:8080/"
        },
        "id": "6F044Nn7OucN",
        "outputId": "bd838da5-6c6c-49d5-99d5-2d9e6cfb0d6c"
      },
      "execution_count": 34,
      "outputs": [
        {
          "output_type": "execute_result",
          "data": {
            "text/plain": [
              "16"
            ]
          },
          "metadata": {},
          "execution_count": 34
        }
      ]
    },
    {
      "cell_type": "code",
      "source": [
        "msg = \"I lov\"\n",
        "result = msg + (16-len(msg) % 16) * \"{\"\n",
        "print(result)\n",
        "print(len(result))"
      ],
      "metadata": {
        "colab": {
          "base_uri": "https://localhost:8080/"
        },
        "id": "Z0XdvbaDO4sp",
        "outputId": "4f7d9314-a357-4bb5-be6c-5f8a72642728"
      },
      "execution_count": 35,
      "outputs": [
        {
          "output_type": "stream",
          "name": "stdout",
          "text": [
            "I lov{{{{{{{{{{{\n",
            "16\n"
          ]
        }
      ]
    },
    {
      "cell_type": "code",
      "source": [
        "msg = \"I love python{{{0\"\n",
        "result = msg + (16-len(msg) % 16) * \"{\"\n",
        "print(result)\n",
        "print(len(result))"
      ],
      "metadata": {
        "colab": {
          "base_uri": "https://localhost:8080/"
        },
        "id": "iGiyPqStPGvh",
        "outputId": "71ed1b8c-bdec-42b4-d5c6-b09e7c48f9b7"
      },
      "execution_count": 36,
      "outputs": [
        {
          "output_type": "stream",
          "name": "stdout",
          "text": [
            "I love python{{{0{{{{{{{{{{{{{{{\n",
            "32\n"
          ]
        }
      ]
    },
    {
      "cell_type": "code",
      "source": [
        "pip install pycryptodome"
      ],
      "metadata": {
        "colab": {
          "base_uri": "https://localhost:8080/"
        },
        "id": "w28jbEmhPyGr",
        "outputId": "3d0dbda2-65fe-46ef-ce98-75d8ea48cdbf"
      },
      "execution_count": 37,
      "outputs": [
        {
          "output_type": "stream",
          "name": "stdout",
          "text": [
            "Looking in indexes: https://pypi.org/simple, https://us-python.pkg.dev/colab-wheels/public/simple/\n",
            "Collecting pycryptodome\n",
            "  Downloading pycryptodome-3.15.0-cp35-abi3-manylinux2010_x86_64.whl (2.3 MB)\n",
            "\u001b[K     |████████████████████████████████| 2.3 MB 4.3 MB/s \n",
            "\u001b[?25hInstalling collected packages: pycryptodome\n",
            "Successfully installed pycryptodome-3.15.0\n"
          ]
        }
      ]
    },
    {
      "cell_type": "code",
      "source": [
        "from Crypto.Cipher import AES\n",
        "from Crypto.Hash import SHA256\n",
        "\n",
        "key = \"hello\"\n",
        "\n",
        "hash_obj = SHA256.new(key.encode('utf-8'))\n",
        "\n",
        "hkey = hash_obj.digest()\n",
        "print(hkey)\n",
        "print(len(hkey))\n"
      ],
      "metadata": {
        "colab": {
          "base_uri": "https://localhost:8080/"
        },
        "id": "T2laQep8Qdgh",
        "outputId": "4a9dfebd-5b8d-455d-e639-b92165a8297c"
      },
      "execution_count": 38,
      "outputs": [
        {
          "output_type": "stream",
          "name": "stdout",
          "text": [
            "b',\\xf2M\\xba_\\xb0\\xa3\\x0e&\\xe8;*\\xc5\\xb9\\xe2\\x9e\\x1b\\x16\\x1e\\\\\\x1f\\xa7B^s\\x043b\\x93\\x8b\\x98$'\n",
            "32\n"
          ]
        }
      ]
    },
    {
      "cell_type": "code",
      "source": [
        "def encrypt(payload):\n",
        "  msg = payload\n",
        "  BLOCK_SIZE = 16\n",
        "  PAD = \"{\"\n",
        "  padding = lambda s : s + (BLOCK_SIZE - len(s) % BLOCK_SIZE) * PAD\n",
        "  cipher = AES.new(hkey,AES.MODE_ECB)\n",
        "  result = cipher.encrypt(padding(msg).encode('utf-8'))\n",
        "  return result"
      ],
      "metadata": {
        "id": "RJx8LNIHR-9a"
      },
      "execution_count": 39,
      "outputs": []
    },
    {
      "cell_type": "code",
      "source": [
        "msg = \"I love python\"\n",
        "\n",
        "cipher_text = encrypt(msg)\n",
        "\n",
        "print(cipher_text)"
      ],
      "metadata": {
        "colab": {
          "base_uri": "https://localhost:8080/"
        },
        "id": "yPZIuPmDTkUY",
        "outputId": "978348ae-aaf6-4386-a0fa-c117ff153170"
      },
      "execution_count": 40,
      "outputs": [
        {
          "output_type": "stream",
          "name": "stdout",
          "text": [
            "b'`\\x06\\xe7\\xdb\\xb0\\xe4d\\xbd\\x9ef\\xc8\\xb6\\xb2\\xff}\\xa1'\n"
          ]
        }
      ]
    },
    {
      "cell_type": "code",
      "source": [
        "def decrypt(cipher_text):\n",
        "  msg = cipher_text\n",
        "  PAD = \"{\"\n",
        "  decipher = AES.new(hkey,AES.MODE_ECB)\n",
        "  plaintext = decipher.decrypt(msg).decode('utf-8')  # the result comes in bytes ,so we have to decode it back to ASCII\n",
        "  pad_index = plaintext.find(PAD)\n",
        "  result = plaintext[:pad_index] # every thing untill pad_index\n",
        "  return result\n",
        "  \n"
      ],
      "metadata": {
        "id": "_7sZP3lIT4P5"
      },
      "execution_count": 43,
      "outputs": []
    },
    {
      "cell_type": "code",
      "source": [
        "print(cipher_text)\n",
        "\n",
        "plain_text = decrypt(cipher_text)\n",
        "\n",
        "print(plain_text)"
      ],
      "metadata": {
        "colab": {
          "base_uri": "https://localhost:8080/"
        },
        "id": "paMkZrm0WNOE",
        "outputId": "5d599de2-4223-4ffe-e267-e79e380dbf12"
      },
      "execution_count": 44,
      "outputs": [
        {
          "output_type": "stream",
          "name": "stdout",
          "text": [
            "b'`\\x06\\xe7\\xdb\\xb0\\xe4d\\xbd\\x9ef\\xc8\\xb6\\xb2\\xff}\\xa1'\n",
            "I love python\n"
          ]
        }
      ]
    },
    {
      "cell_type": "code",
      "source": [
        "msg = \"I love python\"\n",
        "\n",
        "block_size = 16\n",
        "\n",
        "padding = lambda msg : msg + (block_size - len(msg) % block_size) * chr(block_size - len(msg) % block_size)\n",
        "\n",
        "padding(msg)"
      ],
      "metadata": {
        "colab": {
          "base_uri": "https://localhost:8080/",
          "height": 36
        },
        "id": "0pdSNqtMWfnI",
        "outputId": "0eb51e2c-842d-4193-b571-9ab3ee7f4dfd"
      },
      "execution_count": 45,
      "outputs": [
        {
          "output_type": "execute_result",
          "data": {
            "text/plain": [
              "'I love python\\x03\\x03\\x03'"
            ],
            "application/vnd.google.colaboratory.intrinsic+json": {
              "type": "string"
            }
          },
          "metadata": {},
          "execution_count": 45
        }
      ]
    },
    {
      "cell_type": "code",
      "source": [
        "import Crypto\n",
        "from Crypto.Cipher import AES\n",
        "import base64\n",
        "import re\n",
        "\n",
        "# iv = b'abcdef987654'\n",
        "# key = b'D2ulwG4NSeGt'\n",
        "\n",
        "iv = Crypto.Random.new().read(Crypto.Cipher.AES.block_size)\n",
        "print(iv)\n",
        "print(len(iv))"
      ],
      "metadata": {
        "colab": {
          "base_uri": "https://localhost:8080/"
        },
        "id": "J5dYAZTYgtg_",
        "outputId": "01dcb345-1269-4bb9-f6da-a15bbb006842"
      },
      "execution_count": 47,
      "outputs": [
        {
          "output_type": "stream",
          "name": "stdout",
          "text": [
            "b'\\x8e\\x05YZ\\xdcI\\xe8\\x83w\\xb2\"U\\xf9+\\x16,'\n",
            "16\n"
          ]
        }
      ]
    },
    {
      "cell_type": "code",
      "source": [
        ""
      ],
      "metadata": {
        "id": "8V80CP3HjFTU"
      },
      "execution_count": null,
      "outputs": []
    }
  ]
}